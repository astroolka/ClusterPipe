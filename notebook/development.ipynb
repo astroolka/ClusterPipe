{
 "cells": [
  {
   "cell_type": "raw",
   "metadata": {},
   "source": [
    "This notebook gathers many developements dedicated to test and build the Cluster simulation with CTA."
   ]
  },
  {
   "cell_type": "markdown",
   "metadata": {},
   "source": [
    "# Import"
   ]
  },
  {
   "cell_type": "code",
   "execution_count": 1,
   "metadata": {
    "scrolled": true
   },
   "outputs": [],
   "source": [
    "import astropy.units as u\n",
    "from astropy.coordinates.sky_coordinate import SkyCoord\n",
    "from astropy.io import fits\n",
    "import numpy as np\n",
    "import matplotlib.pyplot as plt\n",
    "import os\n",
    "\n",
    "from ClusterPipe import clustpipe"
   ]
  },
  {
   "cell_type": "markdown",
   "metadata": {},
   "source": [
    "# Parameters"
   ]
  },
  {
   "cell_type": "code",
   "execution_count": 2,
   "metadata": {},
   "outputs": [],
   "source": [
    "outdir = os.getenv('CTAPHYS_OUT_DIR')+'KESACCO'"
   ]
  },
  {
   "cell_type": "markdown",
   "metadata": {},
   "source": [
    "### Define the simulation"
   ]
  },
  {
   "cell_type": "code",
   "execution_count": 3,
   "metadata": {},
   "outputs": [
    {
     "name": "stdout",
     "output_type": "stream",
     "text": [
      "===============================================================\n",
      "             _  __  ___    __    __     ___   ___   __         \n",
      "            | |/ / | __| /' _/  /  \\   / _/  / _/  /__\\        \n",
      "            |   <  | _|  `._`. | /\\ | | \\__ | \\__ | \\/ |       \n",
      "            |_|\\_\\ |___| |___/ |_||_|  \\__/  \\__/  \\__/        \n",
      "===============================================================\n",
      "Keen Event Simulation and Analysis for CTA Cluster Observations\n",
      "---------------------------------------------------------------\n"
     ]
    }
   ],
   "source": [
    "cpipe = clustpipe.ClusterPipe(silent=False, output_dir=outdir)"
   ]
  },
  {
   "cell_type": "markdown",
   "metadata": {},
   "source": [
    "### Define the cluster object"
   ]
  },
  {
   "cell_type": "code",
   "execution_count": 4,
   "metadata": {},
   "outputs": [
    {
     "name": "stdout",
     "output_type": "stream",
     "text": [
      "--- theta_truncation\n",
      "    3.43473598064 deg\n",
      "    <class 'astropy.units.quantity.Quantity'>\n",
      "--- abundance\n",
      "    0.3\n",
      "    <type 'float'>\n",
      "--- R_truncation\n",
      "    4646.03293949 kpc\n",
      "    <class 'astropy.units.quantity.Quantity'>\n",
      "--- M500\n",
      "    6.2e+14 solMass\n",
      "    <class 'astropy.units.quantity.Quantity'>\n",
      "--- map_reso\n",
      "    0.02 deg\n",
      "    <class 'astropy.units.quantity.Quantity'>\n",
      "--- theta500\n",
      "    0.973853085549 deg\n",
      "    <class 'astropy.units.quantity.Quantity'>\n",
      "--- Rmin\n",
      "    1.0 kpc\n",
      "    <class 'astropy.units.quantity.Quantity'>\n",
      "--- magfield_model\n",
      "    {'a': 1.33, 'c500': 1.81, 'c': 0.155, 'b': 2.065, 'name': 'GNFW', 'r_p': <Quantity 855.62300911 kpc>, 'P_0': <Quantity 10. uG>}\n",
      "    <type 'dict'>\n",
      "--- density_gas_model\n",
      "    {'name': 'doublebeta', 'beta2': 0.87, 'beta1': 1.8, 'n_01': <Quantity 0.039 1 / cm3>, 'n_02': <Quantity 0.00405 1 / cm3>, 'r_c1': <Quantity 80. kpc>, 'r_c2': <Quantity 280. kpc>}\n",
      "    <type 'dict'>\n",
      "--- Epmin\n",
      "    1.21793391659 GeV\n",
      "    <class 'astropy.units.quantity.Quantity'>\n",
      "--- pp_interaction_model\n",
      "    Pythia8\n",
      "    <type 'str'>\n",
      "--- R500\n",
      "    1317.29295619 kpc\n",
      "    <class 'astropy.units.quantity.Quantity'>\n",
      "--- cosmo\n",
      "    FlatLambdaCDM(name=\"Planck15\", H0=67.7 km / (Mpc s), Om0=0.307, Tcmb0=2.725 K, Neff=3.05, m_nu=[0.   0.   0.06] eV, Ob0=0.0486)\n",
      "    <class 'astropy.cosmology.core.FlatLambdaCDM'>\n",
      "--- Epmax\n",
      "    10.0 PeV\n",
      "    <class 'astropy.units.quantity.Quantity'>\n",
      "--- Npt_per_decade_integ\n",
      "    30\n",
      "    <type 'int'>\n",
      "--- map_coord\n",
      "    <SkyCoord (ICRS): (ra, dec) in deg\n",
      "    (0., 0.)>\n",
      "    <class 'astropy.coordinates.sky_coordinate.SkyCoord'>\n",
      "--- X_cr_E\n",
      "    {'X': 1.0, 'R_norm': <Quantity 1317.29295619 kpc>}\n",
      "    <type 'dict'>\n",
      "--- EBL_model\n",
      "    dominguez\n",
      "    <type 'str'>\n",
      "--- silent\n",
      "    True\n",
      "    <type 'bool'>\n",
      "--- D_ang\n",
      "    77.5017586248 Mpc\n",
      "    <class 'astropy.units.quantity.Quantity'>\n",
      "--- helium_mass_fraction\n",
      "    0.2735\n",
      "    <type 'float'>\n",
      "--- density_crp_model\n",
      "    {'a': 1.33, 'c500': 1.81, 'c': 0.155, 'b': 2.065, 'name': 'GNFW', 'r_p': <Quantity 727.78616364 kpc>, 'P_0': <Quantity 1. adu>}\n",
      "    <type 'dict'>\n",
      "--- metallicity_sol\n",
      "    0.0153\n",
      "    <type 'float'>\n",
      "--- spectrum_crp_model\n",
      "    {'Index': 2.3, 'name': 'PowerLaw'}\n",
      "    <type 'dict'>\n",
      "--- map_fov\n",
      "    [5. 5.] deg\n",
      "    <class 'astropy.units.quantity.Quantity'>\n",
      "--- D_lum\n",
      "    80.301153922 Mpc\n",
      "    <class 'astropy.units.quantity.Quantity'>\n",
      "--- hse_bias\n",
      "    0.2\n",
      "    <type 'float'>\n",
      "--- coord\n",
      "    <SkyCoord (ICRS): (ra, dec) in deg\n",
      "    (49.94666667, 41.51305556)>\n",
      "    <class 'astropy.coordinates.sky_coordinate.SkyCoord'>\n",
      "--- redshift\n",
      "    0.0179\n",
      "    <type 'float'>\n",
      "--- name\n",
      "    Perseus\n",
      "    <type 'str'>\n",
      "--- map_header\n",
      "    None\n",
      "    <type 'NoneType'>\n",
      "--- output_dir\n",
      "    /Users/adam/Project/CTA/Phys/Outputs/KESACCO\n",
      "    <type 'str'>\n",
      "--- pressure_gas_model\n",
      "    {'a': 1.33, 'c': 0.31, 'b': 4.13, 'name': 'GNFW', 'r_p': <Quantity 727.78616364 kpc>, 'c500': 1.81, 'P_0': <Quantity 0.01747178 keV / cm3>}\n",
      "    <type 'dict'>\n"
     ]
    }
   ],
   "source": [
    "cpipe.cluster.name = 'Perseus'\n",
    "cpipe.cluster.redshift = 0.0179\n",
    "cpipe.cluster.M500 = 6.2e14*u.solMass\n",
    "cpipe.cluster.coord = SkyCoord(\"3h19m47.2s +41d30m47s\", frame='icrs')\n",
    "\n",
    "# From Churazov et al. (2003)\n",
    "cpipe.cluster.density_gas_model = {'name':'doublebeta', 'beta1':1.8, 'r_c1':80*u.kpc, 'n_01':3.9e-2*u.cm**-3,\n",
    "                                   'beta2':0.87, 'r_c2':280*u.kpc, 'n_02':4.05e-3*u.cm**-3}\n",
    "\n",
    "# Assuming Planck UPP\n",
    "cpipe.cluster.set_pressure_gas_gNFW_param('P13UPP')\n",
    "\n",
    "# CR physics\n",
    "cpipe.cluster.spectrum_crp_model = {'name':'PowerLaw', 'Index':2.3}\n",
    "cpipe.cluster.set_density_crp_isobaric_scal_param(scal=0.5)\n",
    "cpipe.cluster.X_cr_E = {'X':1.0, 'R_norm':cpipe.cluster.R500}\n",
    "\n",
    "# Sampling\n",
    "cpipe.cluster.Npt_per_decade_integ = 30\n",
    "\n",
    "# Get information\n",
    "cpipe.cluster.print_param()"
   ]
  },
  {
   "cell_type": "markdown",
   "metadata": {},
   "source": [
    "### Define the point source object"
   ]
  },
  {
   "cell_type": "code",
   "execution_count": 5,
   "metadata": {},
   "outputs": [
    {
     "name": "stdout",
     "output_type": "stream",
     "text": [
      "--- NGC1275\n",
      "    -- Spatial model: PointSource\n",
      "         DEC: {'free': False, 'value': <Latitude 41.51166667 deg>}\n",
      "         RA: {'free': False, 'value': <Longitude 49.95066667 deg>}\n",
      "    -- Spectral model: PowerLaw\n",
      "         Index: {'free': False, 'value': -3.6}\n",
      "         PivotEnergy: {'free': False, 'value': <Quantity 0.2 TeV>}\n",
      "         Prefactor: {'free': True, 'value': <Quantity 2.1e-11 1 / (cm2 s TeV)>}\n",
      "    -- Temporal model: Constant\n",
      "         Normalization: {'free': False, 'value': 1.0}\n",
      "--- IC310\n",
      "    -- Spatial model: PointSource\n",
      "         DEC: {'free': False, 'value': <Latitude 41.325 deg>}\n",
      "         RA: {'free': False, 'value': <Longitude 49.17908333 deg>}\n",
      "    -- Spectral model: PowerLaw\n",
      "         Index: {'free': False, 'value': -1.95}\n",
      "         PivotEnergy: {'free': False, 'value': <Quantity 1. TeV>}\n",
      "         Prefactor: {'free': True, 'value': <Quantity 4.3e-12 1 / (cm2 s TeV)>}\n",
      "    -- Temporal model: Constant\n",
      "         Normalization: {'free': False, 'value': 1.0}\n"
     ]
    }
   ],
   "source": [
    "# source 1\n",
    "name='NGC1275'\n",
    "spatial={'type':'PointSource',\n",
    "         'param':{'RA': {'value':SkyCoord(\"3h19m48.16s +41d30m42s\").ra.to('deg'),  'free':False},\n",
    "                  'DEC':{'value':SkyCoord(\"3h19m48.16s +41d30m42s\").dec.to('deg'), 'free':False}}}\n",
    "spectral={'type':'PowerLaw',\n",
    "          'param':{'Prefactor':{'value':2.1e-11/u.cm**2/u.TeV/u.s, 'free':True},\n",
    "                   'Index':{'value':-3.6, 'free':False},\n",
    "                   'PivotEnergy':{'value':0.2*u.TeV, 'free':False}}}\n",
    "cpipe.compact_source.add_source(name, spatial, spectral)\n",
    "\n",
    "# source 2\n",
    "name='IC310'\n",
    "spatial={'type':'PointSource',\n",
    "         'param':{'RA': {'value':SkyCoord(\"3h16m42.98s +41d19m30s\").ra.to('deg'),  'free':False},\n",
    "                  'DEC':{'value':SkyCoord(\"3h16m42.98s +41d19m30s\").dec.to('deg'), 'free':False}}}\n",
    "spectral={'type':'PowerLaw',\n",
    "          'param':{'Prefactor':{'value':4.3e-12/u.cm**2/u.TeV/u.s, 'free':True},\n",
    "                   'Index':{'value':-1.95, 'free':False},\n",
    "                   'PivotEnergy':{'value':1.0*u.TeV, 'free':False}}}\n",
    "cpipe.compact_source.add_source(name, spatial, spectral)\n",
    "\n",
    "cpipe.compact_source.print_source()"
   ]
  },
  {
   "cell_type": "markdown",
   "metadata": {},
   "source": [
    "### Define the observations"
   ]
  },
  {
   "cell_type": "code",
   "execution_count": 6,
   "metadata": {},
   "outputs": [
    {
     "name": "stdout",
     "output_type": "stream",
     "text": [
      "=== Perseus_Ptg1, ObsID 011\n",
      "        RA-Dec:    49.9466666667, 41.5130555556 deg\n",
      "        GLON-GLAT: 150.572480744, -13.2617332972 deg\n",
      "        ROI rad: 4.0 deg\n",
      "        tmin: 2020-01-01T00:00:00.0\n",
      "        tmax: 2020-01-01T01:00:00.0\n",
      "        emin: 0.05 TeV\n",
      "        emax: 100.0 TeV\n",
      "        deadc: 0.95\n",
      "        caldb: prod3b-v2\n",
      "        irf: North_z20_S_5h\n",
      "        bkg: name Background, obsid None, spatial type CTAIrfBackground, spectral type PowerLaw\n",
      "=== Perseus_Ptg2, ObsID 012\n",
      "        RA-Dec:    50.9466666667, 42.5130555556 deg\n",
      "        GLON-GLAT: 150.635045991, -12.0174437848 deg\n",
      "        ROI rad: 6.0 deg\n",
      "        tmin: 2020-01-02T00:00:00.0\n",
      "        tmax: 2020-01-02T02:00:00.0\n",
      "        emin: 0.06 TeV\n",
      "        emax: 90.0 TeV\n",
      "        deadc: 0.95\n",
      "        caldb: prod3b-v2\n",
      "        irf: North_z20_S_5h\n",
      "        bkg: name Background, obsid None, spatial type CTAIrfBackground, spectral type PowerLaw\n",
      "=== Perseus_Ptg3, ObsID 013\n",
      "        RA-Dec:    50.4466666667, 41.0130555556 deg\n",
      "        GLON-GLAT: 151.179005818, -13.4691975264 deg\n",
      "        ROI rad: 5.0 deg\n",
      "        tmin: 2020-01-03T00:00:00.0\n",
      "        tmax: 2020-01-03T01:30:00.0\n",
      "        emin: 0.05 TeV\n",
      "        emax: 90.0 TeV\n",
      "        deadc: 0.95\n",
      "        caldb: prod3b-v2\n",
      "        irf: North_z20_S_5h\n",
      "        bkg: name Background, obsid None, spatial type CTAIrfBackground, spectral type PowerLaw\n",
      "=== Perseus_Ptg4, ObsID 014\n",
      "        RA-Dec:    48.9466666667, 40.5130555556 deg\n",
      "        GLON-GLAT: 150.484402389, -14.5115320116 deg\n",
      "        ROI rad: 7.0 deg\n",
      "        tmin: 2020-01-04T00:00:00.0\n",
      "        tmax: 2020-01-04T02:00:00.0\n",
      "        emin: 0.06 TeV\n",
      "        emax: 120.0 TeV\n",
      "        deadc: 0.95\n",
      "        caldb: prod3b-v2\n",
      "        irf: North_z20_S_5h\n",
      "        bkg: name Background, obsid None, spatial type CTAIrfBackground, spectral type PowerLaw\n",
      "=== Perseus_Ptg5, ObsID 015\n",
      "        RA-Dec:    49.4466666667, 42.0130555556 deg\n",
      "        GLON-GLAT: 149.970733309, -13.0478510419 deg\n",
      "        ROI rad: 5.0 deg\n",
      "        tmin: 2020-01-05T00:00:00.0\n",
      "        tmax: 2020-01-05T02:30:00.0\n",
      "        emin: 0.07 TeV\n",
      "        emax: 140.0 TeV\n",
      "        deadc: 0.95\n",
      "        caldb: prod3b-v2\n",
      "        irf: North_z20_S_5h\n",
      "        bkg: name Background, obsid None, spatial type CTAIrfBackground, spectral type PowerLaw\n"
     ]
    }
   ],
   "source": [
    "# One pointing centered on cluster\n",
    "cpipe.obs_setup.add_obs(obsid='011', name='Perseus_Ptg1', \n",
    "                        coord=cpipe.cluster.coord, \n",
    "                        rad=4*u.deg, \n",
    "                        emin=0.05*u.TeV, emax=100*u.TeV,\n",
    "                        caldb='prod3b-v2', irf='North_z20_S_5h',\n",
    "                        tmin='2020-01-01T00:00:00.0', tmax='2020-01-01T01:00:00.0', deadc=0.95)\n",
    "\n",
    "# One pointing offset +1+1\n",
    "cpipe.obs_setup.add_obs(obsid='012', name='Perseus_Ptg2', \n",
    "                        coord=SkyCoord(cpipe.cluster.coord.ra.value+1, cpipe.cluster.coord.dec.value+1, unit='deg'),\n",
    "                        rad=6*u.deg,\n",
    "                        emin=0.06*u.TeV, emax=90*u.TeV,\n",
    "                        caldb='prod3b-v2', irf='North_z20_S_5h',\n",
    "                        tmin='2020-01-02T00:00:00.0', tmax='2020-01-02T02:00:00.0', deadc=0.95)\n",
    "\n",
    "# One pointing offset +0.5-0.5\n",
    "cpipe.obs_setup.add_obs(obsid='013', name='Perseus_Ptg3', \n",
    "                        coord=SkyCoord(cpipe.cluster.coord.ra.value+0.5, cpipe.cluster.coord.dec.value-0.5, unit='deg'),\n",
    "                        rad=5*u.deg, \n",
    "                        emin=0.05*u.TeV, emax=90*u.TeV,\n",
    "                        caldb='prod3b-v2', irf='North_z20_S_5h',\n",
    "                        tmin='2020-01-03T00:00:00.0', tmax='2020-01-03T01:30:00.0', deadc=0.95)\n",
    "\n",
    "\n",
    "# One pointing offset +1+1\n",
    "cpipe.obs_setup.add_obs(obsid='014', name='Perseus_Ptg4', \n",
    "                        coord=SkyCoord(cpipe.cluster.coord.ra.value-1, cpipe.cluster.coord.dec.value-1, unit='deg'),\n",
    "                        rad=7*u.deg,\n",
    "                        emin=0.06*u.TeV, emax=120*u.TeV,\n",
    "                        caldb='prod3b-v2', irf='North_z20_S_5h',\n",
    "                        tmin='2020-01-04T00:00:00.0', tmax='2020-01-04T02:00:00.0', deadc=0.95)\n",
    "\n",
    "# One pointing offset +0.5-0.5\n",
    "cpipe.obs_setup.add_obs(obsid='015', name='Perseus_Ptg5', \n",
    "                        coord=SkyCoord(cpipe.cluster.coord.ra.value-0.5, cpipe.cluster.coord.dec.value+0.5, unit='deg'),\n",
    "                        rad=5*u.deg, \n",
    "                        emin=0.07*u.TeV, emax=140*u.TeV,\n",
    "                        caldb='prod3b-v2', irf='North_z20_S_5h',\n",
    "                        tmin='2020-01-05T00:00:00.0', tmax='2020-01-05T02:30:00.0', deadc=0.95)\n",
    "\n",
    "# Print info\n",
    "cpipe.obs_setup.print_obs()"
   ]
  },
  {
   "cell_type": "markdown",
   "metadata": {},
   "source": [
    "# Run the simulation"
   ]
  },
  {
   "cell_type": "code",
   "execution_count": 7,
   "metadata": {},
   "outputs": [],
   "source": [
    "#cpipe.run_sim_obs()\n",
    "#cpipe.run_sim_quicklook(ShowEvent=True, ShowObsDef=True, ShowSkyModel=True,\n",
    "#                        bkgsubtract='IRF', smoothing_FWHM=0.2*u.deg)"
   ]
  },
  {
   "cell_type": "markdown",
   "metadata": {},
   "source": [
    "# Run the analysis"
   ]
  },
  {
   "cell_type": "code",
   "execution_count": 8,
   "metadata": {},
   "outputs": [],
   "source": [
    "#----- Analysis parameters\n",
    "cpipe.method_binned = True\n",
    "cpipe.method_stack  = True\n",
    "cpipe.spec_enumbins = 20\n",
    "cpipe.map_reso      = 0.05*u.deg\n",
    "\n",
    "obsID = ['011', '012', '013', '014', '015']"
   ]
  },
  {
   "cell_type": "code",
   "execution_count": 9,
   "metadata": {},
   "outputs": [],
   "source": [
    "#cpipe.run_ana_dataprep(obsID=obsID)"
   ]
  },
  {
   "cell_type": "code",
   "execution_count": 10,
   "metadata": {},
   "outputs": [],
   "source": [
    "#cpipe.run_ana_likelihood()"
   ]
  },
  {
   "cell_type": "code",
   "execution_count": 11,
   "metadata": {},
   "outputs": [],
   "source": [
    "#cpipe.run_ana_imaging(bkgsubtract='NONE', do_TS=False, do_Res=True, do_Skymap=True, do_SourceDet=False)\n",
    "#cpipe.run_ana_spectral(do_Spec=False, do_Butterfly=False, do_Res=True)"
   ]
  },
  {
   "cell_type": "code",
   "execution_count": 12,
   "metadata": {},
   "outputs": [],
   "source": [
    "#cpipe.run_ana_expected_output(obsID=obsID)"
   ]
  },
  {
   "cell_type": "code",
   "execution_count": 13,
   "metadata": {},
   "outputs": [
    {
     "name": "stdout",
     "output_type": "stream",
     "text": [
      "----- ObsID to be looked at: ['011', '012', '013', '014', '015']\n"
     ]
    },
    {
     "name": "stderr",
     "output_type": "stream",
     "text": [
      "/Users/adam/Project/anaconda3/envs/cta/lib/python2.7/site-packages/astropy/units/quantity.py:641: RuntimeWarning: divide by zero encountered in true_divide\n",
      "  *arrays, **kwargs)\n",
      "/Users/adam/Project/anaconda3/envs/cta/lib/python2.7/site-packages/astropy/units/quantity.py:641: RuntimeWarning: invalid value encountered in true_divide\n",
      "  *arrays, **kwargs)\n",
      "/Users/adam/Project/anaconda3/envs/cta/lib/python2.7/site-packages/astropy/units/quantity.py:641: RuntimeWarning: invalid value encountered in greater\n",
      "  *arrays, **kwargs)\n"
     ]
    }
   ],
   "source": [
    "cpipe.run_ana_plot(obsID=obsID, profile_log=True)"
   ]
  }
 ],
 "metadata": {
  "kernelspec": {
   "display_name": "Python 2",
   "language": "python",
   "name": "python2"
  },
  "language_info": {
   "codemirror_mode": {
    "name": "ipython",
    "version": 2
   },
   "file_extension": ".py",
   "mimetype": "text/x-python",
   "name": "python",
   "nbconvert_exporter": "python",
   "pygments_lexer": "ipython2",
   "version": "2.7.16"
  }
 },
 "nbformat": 4,
 "nbformat_minor": 2
}

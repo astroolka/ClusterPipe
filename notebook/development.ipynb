{
 "cells": [
  {
   "cell_type": "raw",
   "metadata": {},
   "source": [
    "This notebook gathers many developements dedicated to test and build the Cluster simulation with CTA."
   ]
  },
  {
   "cell_type": "markdown",
   "metadata": {},
   "source": [
    "# Import"
   ]
  },
  {
   "cell_type": "code",
   "execution_count": 1,
   "metadata": {
    "scrolled": true
   },
   "outputs": [],
   "source": [
    "import astropy.units as u\n",
    "from astropy.coordinates.sky_coordinate import SkyCoord\n",
    "from astropy.io import fits\n",
    "import numpy as np\n",
    "import matplotlib.pyplot as plt\n",
    "import os\n",
    "\n",
    "from ClusterPipe import clustpipe\n",
    "\n",
    "dict_base = {'font.size':        16,\n",
    "             'legend.fontsize':  16,\n",
    "             'xtick.labelsize':  16,\n",
    "             'ytick.labelsize':  16,\n",
    "             'axes.labelsize':   16,\n",
    "             'axes.titlesize':   16,\n",
    "             'axes.linewidth':   2,\n",
    "             'figure.titlesize': 16,\n",
    "             'figure.figsize':[8.0, 6.0],\n",
    "             'figure.subplot.right':0.97,\n",
    "             'figure.subplot.left':0.18, # Ensure enough space on the left so that all plot can be aligned\n",
    "             'font.family':'serif',\n",
    "             'figure.facecolor': 'white',\n",
    "             'legend.frameon': True}\n",
    "\n",
    "plt.rcParams.update(dict_base)"
   ]
  },
  {
   "cell_type": "markdown",
   "metadata": {},
   "source": [
    "# Parameters"
   ]
  },
  {
   "cell_type": "code",
   "execution_count": 2,
   "metadata": {},
   "outputs": [],
   "source": [
    "outdir = os.getenv('CTAPHYS_OUT_DIR')+'KESACCO'"
   ]
  },
  {
   "cell_type": "markdown",
   "metadata": {},
   "source": [
    "### Define the simulation"
   ]
  },
  {
   "cell_type": "code",
   "execution_count": 3,
   "metadata": {},
   "outputs": [
    {
     "name": "stdout",
     "output_type": "stream",
     "text": [
      "===============================================================\n",
      "             _  __  ___    __    __     ___   ___   __         \n",
      "            | |/ / | __| /' _/  /  \\   / _/  / _/  /__\\        \n",
      "            |   <  | _|  `._`. | /\\ | | \\__ | \\__ | \\/ |       \n",
      "            |_|\\_\\ |___| |___/ |_||_|  \\__/  \\__/  \\__/        \n",
      "===============================================================\n",
      "Keen Event Simulation and Analysis for CTA Cluster Observations\n",
      "---------------------------------------------------------------\n"
     ]
    }
   ],
   "source": [
    "cpipe = clustpipe.ClusterPipe(silent=False, output_dir=outdir)"
   ]
  },
  {
   "cell_type": "markdown",
   "metadata": {},
   "source": [
    "### Define the cluster object"
   ]
  },
  {
   "cell_type": "code",
   "execution_count": 4,
   "metadata": {},
   "outputs": [
    {
     "name": "stdout",
     "output_type": "stream",
     "text": [
      "--- theta_truncation\n",
      "    3.43473598064 deg\n",
      "    <class 'astropy.units.quantity.Quantity'>\n",
      "--- abundance\n",
      "    0.3\n",
      "    <type 'float'>\n",
      "--- R_truncation\n",
      "    4646.03293949 kpc\n",
      "    <class 'astropy.units.quantity.Quantity'>\n",
      "--- M500\n",
      "    6.2e+14 solMass\n",
      "    <class 'astropy.units.quantity.Quantity'>\n",
      "--- map_reso\n",
      "    0.02 deg\n",
      "    <class 'astropy.units.quantity.Quantity'>\n",
      "--- theta500\n",
      "    0.973853085549 deg\n",
      "    <class 'astropy.units.quantity.Quantity'>\n",
      "--- Rmin\n",
      "    1.0 kpc\n",
      "    <class 'astropy.units.quantity.Quantity'>\n",
      "--- magfield_model\n",
      "    {'a': 1.33, 'c500': 1.81, 'c': 0.155, 'b': 2.065, 'name': 'GNFW', 'r_p': <Quantity 855.62300911 kpc>, 'P_0': <Quantity 10. uG>}\n",
      "    <type 'dict'>\n",
      "--- density_gas_model\n",
      "    {'name': 'doublebeta', 'beta2': 0.87, 'beta1': 1.8, 'n_01': <Quantity 0.039 1 / cm3>, 'n_02': <Quantity 0.00405 1 / cm3>, 'r_c1': <Quantity 80. kpc>, 'r_c2': <Quantity 280. kpc>}\n",
      "    <type 'dict'>\n",
      "--- Epmin\n",
      "    1.21793391659 GeV\n",
      "    <class 'astropy.units.quantity.Quantity'>\n",
      "--- pp_interaction_model\n",
      "    Pythia8\n",
      "    <type 'str'>\n",
      "--- R500\n",
      "    1317.29295619 kpc\n",
      "    <class 'astropy.units.quantity.Quantity'>\n",
      "--- cosmo\n",
      "    FlatLambdaCDM(name=\"Planck15\", H0=67.7 km / (Mpc s), Om0=0.307, Tcmb0=2.725 K, Neff=3.05, m_nu=[0.   0.   0.06] eV, Ob0=0.0486)\n",
      "    <class 'astropy.cosmology.core.FlatLambdaCDM'>\n",
      "--- Epmax\n",
      "    10.0 PeV\n",
      "    <class 'astropy.units.quantity.Quantity'>\n",
      "--- Npt_per_decade_integ\n",
      "    30\n",
      "    <type 'int'>\n",
      "--- map_coord\n",
      "    <SkyCoord (ICRS): (ra, dec) in deg\n",
      "    (0., 0.)>\n",
      "    <class 'astropy.coordinates.sky_coordinate.SkyCoord'>\n",
      "--- X_cr_E\n",
      "    {'X': 1.0, 'R_norm': <Quantity 1317.29295619 kpc>}\n",
      "    <type 'dict'>\n",
      "--- EBL_model\n",
      "    dominguez\n",
      "    <type 'str'>\n",
      "--- silent\n",
      "    True\n",
      "    <type 'bool'>\n",
      "--- D_ang\n",
      "    77.5017586248 Mpc\n",
      "    <class 'astropy.units.quantity.Quantity'>\n",
      "--- helium_mass_fraction\n",
      "    0.2735\n",
      "    <type 'float'>\n",
      "--- density_crp_model\n",
      "    {'a': 1.33, 'c500': 1.81, 'c': 0.155, 'b': 2.065, 'name': 'GNFW', 'r_p': <Quantity 727.78616364 kpc>, 'P_0': <Quantity 1. adu>}\n",
      "    <type 'dict'>\n",
      "--- metallicity_sol\n",
      "    0.0153\n",
      "    <type 'float'>\n",
      "--- spectrum_crp_model\n",
      "    {'Index': 2.3, 'name': 'PowerLaw'}\n",
      "    <type 'dict'>\n",
      "--- map_fov\n",
      "    [5. 5.] deg\n",
      "    <class 'astropy.units.quantity.Quantity'>\n",
      "--- D_lum\n",
      "    80.301153922 Mpc\n",
      "    <class 'astropy.units.quantity.Quantity'>\n",
      "--- hse_bias\n",
      "    0.2\n",
      "    <type 'float'>\n",
      "--- coord\n",
      "    <SkyCoord (ICRS): (ra, dec) in deg\n",
      "    (49.94666667, 41.51305556)>\n",
      "    <class 'astropy.coordinates.sky_coordinate.SkyCoord'>\n",
      "--- redshift\n",
      "    0.0179\n",
      "    <type 'float'>\n",
      "--- name\n",
      "    Perseus\n",
      "    <type 'str'>\n",
      "--- map_header\n",
      "    None\n",
      "    <type 'NoneType'>\n",
      "--- output_dir\n",
      "    /Users/adam/Project/CTA/Phys/Outputs/KESACCO\n",
      "    <type 'str'>\n",
      "--- pressure_gas_model\n",
      "    {'a': 1.33, 'c': 0.31, 'b': 4.13, 'name': 'GNFW', 'r_p': <Quantity 727.78616364 kpc>, 'c500': 1.81, 'P_0': <Quantity 0.01747178 keV / cm3>}\n",
      "    <type 'dict'>\n"
     ]
    }
   ],
   "source": [
    "cpipe.cluster.name = 'Perseus'\n",
    "cpipe.cluster.redshift = 0.0179\n",
    "cpipe.cluster.M500 = 6.2e14*u.solMass\n",
    "cpipe.cluster.coord = SkyCoord(\"3h19m47.2s +41d30m47s\", frame='icrs')\n",
    "\n",
    "# From Churazov et al. (2003)\n",
    "cpipe.cluster.density_gas_model = {'name':'doublebeta', 'beta1':1.8, 'r_c1':80*u.kpc, 'n_01':3.9e-2*u.cm**-3,\n",
    "                                   'beta2':0.87, 'r_c2':280*u.kpc, 'n_02':4.05e-3*u.cm**-3}\n",
    "\n",
    "# Assuming Planck UPP\n",
    "cpipe.cluster.set_pressure_gas_gNFW_param('P13UPP')\n",
    "\n",
    "# CR physics\n",
    "cpipe.cluster.spectrum_crp_model = {'name':'PowerLaw', 'Index':2.3}\n",
    "cpipe.cluster.set_density_crp_isobaric_scal_param(scal=0.5)\n",
    "cpipe.cluster.X_cr_E = {'X':1.0, 'R_norm':cpipe.cluster.R500}\n",
    "\n",
    "# Sampling\n",
    "cpipe.cluster.Npt_per_decade_integ = 30\n",
    "\n",
    "# Get information\n",
    "cpipe.cluster.print_param()"
   ]
  },
  {
   "cell_type": "markdown",
   "metadata": {},
   "source": [
    "### Define the point source object"
   ]
  },
  {
   "cell_type": "code",
   "execution_count": 5,
   "metadata": {},
   "outputs": [
    {
     "name": "stdout",
     "output_type": "stream",
     "text": [
      "--- NGC1275\n",
      "    -- Spatial model: PointSource\n",
      "         DEC: {'free': False, 'value': <Latitude 41.51166667 deg>}\n",
      "         RA: {'free': False, 'value': <Longitude 49.95066667 deg>}\n",
      "    -- Spectral model: PowerLaw\n",
      "         Index: {'free': False, 'value': -3.6}\n",
      "         PivotEnergy: {'free': False, 'value': <Quantity 0.2 TeV>}\n",
      "         Prefactor: {'free': True, 'value': <Quantity 2.1e-11 1 / (cm2 s TeV)>}\n",
      "    -- Temporal model: Constant\n",
      "         Normalization: {'free': False, 'value': 1.0}\n",
      "--- IC310\n",
      "    -- Spatial model: PointSource\n",
      "         DEC: {'free': False, 'value': <Latitude 41.325 deg>}\n",
      "         RA: {'free': False, 'value': <Longitude 49.17908333 deg>}\n",
      "    -- Spectral model: PowerLaw\n",
      "         Index: {'free': False, 'value': -1.95}\n",
      "         PivotEnergy: {'free': False, 'value': <Quantity 1. TeV>}\n",
      "         Prefactor: {'free': True, 'value': <Quantity 4.3e-12 1 / (cm2 s TeV)>}\n",
      "    -- Temporal model: Constant\n",
      "         Normalization: {'free': False, 'value': 1.0}\n"
     ]
    }
   ],
   "source": [
    "# source 1\n",
    "name='NGC1275'\n",
    "spatial={'type':'PointSource',\n",
    "         'param':{'RA': {'value':SkyCoord(\"3h19m48.16s +41d30m42s\").ra.to('deg'),  'free':False},\n",
    "                  'DEC':{'value':SkyCoord(\"3h19m48.16s +41d30m42s\").dec.to('deg'), 'free':False}}}\n",
    "spectral={'type':'PowerLaw',\n",
    "          'param':{'Prefactor':{'value':2.1e-11/u.cm**2/u.TeV/u.s, 'free':True},\n",
    "                   'Index':{'value':-3.6, 'free':False},\n",
    "                   'PivotEnergy':{'value':0.2*u.TeV, 'free':False}}}\n",
    "cpipe.compact_source.add_source(name, spatial, spectral)\n",
    "\n",
    "# source 2\n",
    "name='IC310'\n",
    "spatial={'type':'PointSource',\n",
    "         'param':{'RA': {'value':SkyCoord(\"3h16m42.98s +41d19m30s\").ra.to('deg'),  'free':False},\n",
    "                  'DEC':{'value':SkyCoord(\"3h16m42.98s +41d19m30s\").dec.to('deg'), 'free':False}}}\n",
    "spectral={'type':'PowerLaw',\n",
    "          'param':{'Prefactor':{'value':4.3e-12/u.cm**2/u.TeV/u.s, 'free':True},\n",
    "                   'Index':{'value':-1.95, 'free':False},\n",
    "                   'PivotEnergy':{'value':1.0*u.TeV, 'free':False}}}\n",
    "cpipe.compact_source.add_source(name, spatial, spectral)\n",
    "\n",
    "cpipe.compact_source.print_source()"
   ]
  },
  {
   "cell_type": "markdown",
   "metadata": {},
   "source": [
    "### Define the observations"
   ]
  },
  {
   "cell_type": "code",
   "execution_count": 6,
   "metadata": {},
   "outputs": [
    {
     "name": "stdout",
     "output_type": "stream",
     "text": [
      "=== Perseus_Ptg1, ObsID 011\n",
      "        RA-Dec:    49.9466666667, 41.5130555556 deg\n",
      "        GLON-GLAT: 150.572480744, -13.2617332972 deg\n",
      "        ROI rad: 4.0 deg\n",
      "        tmin: 2020-01-01T00:00:00.0\n",
      "        tmax: 2020-01-01T00:20:00.0\n",
      "        emin: 0.05 TeV\n",
      "        emax: 100.0 TeV\n",
      "        deadc: 0.5\n",
      "        caldb: prod3b-v2\n",
      "        irf: North_z20_S_5h\n",
      "        bkg: name Background, obsid None, spatial type CTAIrfBackground, spectral type PowerLaw\n",
      "=== Perseus_Ptg2, ObsID 012\n",
      "        RA-Dec:    50.9466666667, 42.5130555556 deg\n",
      "        GLON-GLAT: 150.635045991, -12.0174437848 deg\n",
      "        ROI rad: 6.0 deg\n",
      "        tmin: 2020-01-02T00:00:00.0\n",
      "        tmax: 2020-01-02T00:40:00.0\n",
      "        emin: 0.06 TeV\n",
      "        emax: 90.0 TeV\n",
      "        deadc: 0.95\n",
      "        caldb: prod3b-v2\n",
      "        irf: North_z20_S_5h\n",
      "        bkg: name Background, obsid None, spatial type CTAIrfBackground, spectral type PowerLaw\n",
      "=== Perseus_Ptg3, ObsID 013\n",
      "        RA-Dec:    50.4466666667, 41.0130555556 deg\n",
      "        GLON-GLAT: 151.179005818, -13.4691975264 deg\n",
      "        ROI rad: 5.0 deg\n",
      "        tmin: 2020-01-03T00:00:00.0\n",
      "        tmax: 2020-01-03T01:30:00.0\n",
      "        emin: 0.05 TeV\n",
      "        emax: 90.0 TeV\n",
      "        deadc: 0.98\n",
      "        caldb: prod3b-v2\n",
      "        irf: North_z40_50h\n",
      "        bkg: name Background, obsid None, spatial type CTAIrfBackground, spectral type PowerLaw\n",
      "=== Perseus_Ptg4, ObsID 014\n",
      "        RA-Dec:    48.9466666667, 40.5130555556 deg\n",
      "        GLON-GLAT: 150.484402389, -14.5115320116 deg\n",
      "        ROI rad: 7.0 deg\n",
      "        tmin: 2020-01-04T00:00:00.0\n",
      "        tmax: 2020-01-04T02:00:00.0\n",
      "        emin: 0.06 TeV\n",
      "        emax: 120.0 TeV\n",
      "        deadc: 0.95\n",
      "        caldb: prod3b-v2\n",
      "        irf: North_z20_S_5h\n",
      "        bkg: name Background, obsid None, spatial type CTAIrfBackground, spectral type PowerLaw\n",
      "=== Perseus_Ptg5, ObsID 015\n",
      "        RA-Dec:    49.4466666667, 42.0130555556 deg\n",
      "        GLON-GLAT: 149.970733309, -13.0478510419 deg\n",
      "        ROI rad: 5.0 deg\n",
      "        tmin: 2020-01-05T00:00:00.0\n",
      "        tmax: 2020-01-05T02:30:00.0\n",
      "        emin: 0.07 TeV\n",
      "        emax: 140.0 TeV\n",
      "        deadc: 0.98\n",
      "        caldb: prod3b-v2\n",
      "        irf: North_z40_50h\n",
      "        bkg: name Background, obsid None, spatial type CTAIrfBackground, spectral type PowerLaw\n"
     ]
    }
   ],
   "source": [
    "# One pointing centered on cluster\n",
    "cpipe.obs_setup.add_obs(obsid='011', name='Perseus_Ptg1', \n",
    "                        coord=cpipe.cluster.coord, \n",
    "                        rad=4*u.deg, \n",
    "                        emin=0.05*u.TeV, emax=100*u.TeV,\n",
    "                        caldb='prod3b-v2', irf='North_z20_S_5h',\n",
    "                        tmin='2020-01-01T00:00:00.0', tmax='2020-01-01T00:20:00.0', deadc=0.5)\n",
    "\n",
    "# One pointing offset +1+1\n",
    "cpipe.obs_setup.add_obs(obsid='012', name='Perseus_Ptg2', \n",
    "                        coord=SkyCoord(cpipe.cluster.coord.ra.value+1, cpipe.cluster.coord.dec.value+1, unit='deg'),\n",
    "                        rad=6*u.deg,\n",
    "                        emin=0.06*u.TeV, emax=90*u.TeV,\n",
    "                        caldb='prod3b-v2', irf='North_z20_S_5h',\n",
    "                        tmin='2020-01-02T00:00:00.0', tmax='2020-01-02T00:40:00.0', deadc=0.95)\n",
    "\n",
    "# One pointing offset +0.5-0.5\n",
    "cpipe.obs_setup.add_obs(obsid='013', name='Perseus_Ptg3', \n",
    "                        coord=SkyCoord(cpipe.cluster.coord.ra.value+0.5, cpipe.cluster.coord.dec.value-0.5, unit='deg'),\n",
    "                        rad=5*u.deg, \n",
    "                        emin=0.05*u.TeV, emax=90*u.TeV,\n",
    "                        caldb='prod3b-v2', irf='North_z40_50h',\n",
    "                        tmin='2020-01-03T00:00:00.0', tmax='2020-01-03T01:30:00.0', deadc=0.98)\n",
    "\n",
    "\n",
    "# One pointing offset +1+1\n",
    "cpipe.obs_setup.add_obs(obsid='014', name='Perseus_Ptg4', \n",
    "                        coord=SkyCoord(cpipe.cluster.coord.ra.value-1, cpipe.cluster.coord.dec.value-1, unit='deg'),\n",
    "                        rad=7*u.deg,\n",
    "                        emin=0.06*u.TeV, emax=120*u.TeV,\n",
    "                        caldb='prod3b-v2', irf='North_z20_S_5h',\n",
    "                        tmin='2020-01-04T00:00:00.0', tmax='2020-01-04T02:00:00.0', deadc=0.95)\n",
    "\n",
    "# One pointing offset +0.5-0.5\n",
    "cpipe.obs_setup.add_obs(obsid='015', name='Perseus_Ptg5', \n",
    "                        coord=SkyCoord(cpipe.cluster.coord.ra.value-0.5, cpipe.cluster.coord.dec.value+0.5, unit='deg'),\n",
    "                        rad=5*u.deg, \n",
    "                        emin=0.07*u.TeV, emax=140*u.TeV,\n",
    "                        caldb='prod3b-v2', irf='North_z40_50h',\n",
    "                        tmin='2020-01-05T00:00:00.0', tmax='2020-01-05T02:30:00.0', deadc=0.98)\n",
    "\n",
    "# Print info\n",
    "cpipe.obs_setup.print_obs()"
   ]
  },
  {
   "cell_type": "markdown",
   "metadata": {},
   "source": [
    "# Run the simulation"
   ]
  },
  {
   "cell_type": "raw",
   "metadata": {},
   "source": [
    "cpipe.run_sim_obs()\n",
    "cpipe.run_sim_quicklook(ShowEvent=True, ShowObsDef=True, ShowSkyModel=True,\n",
    "                        bkgsubtract='IRF', smoothing_FWHM=0.2*u.deg)"
   ]
  },
  {
   "cell_type": "markdown",
   "metadata": {},
   "source": [
    "# Run the analysis"
   ]
  },
  {
   "cell_type": "code",
   "execution_count": 7,
   "metadata": {},
   "outputs": [],
   "source": [
    "#----- Analysis parameters\n",
    "cpipe.method_binned = True\n",
    "cpipe.method_stack  = True\n",
    "cpipe.spec_enumbins = 20\n",
    "cpipe.map_reso      = 0.2*u.deg\n",
    "\n",
    "obsID = ['011', '012']#, '013', '014', '015']"
   ]
  },
  {
   "cell_type": "code",
   "execution_count": 8,
   "metadata": {},
   "outputs": [],
   "source": [
    "cpipe.run_ana_dataprep(obsID=obsID)"
   ]
  },
  {
   "cell_type": "code",
   "execution_count": 9,
   "metadata": {},
   "outputs": [],
   "source": [
    "cpipe.run_ana_likelihood()"
   ]
  },
  {
   "cell_type": "code",
   "execution_count": 10,
   "metadata": {},
   "outputs": [
    {
     "name": "stdout",
     "output_type": "stream",
     "text": [
      "=== GApplication ===\n",
      " Name ......................: ctskymap\n",
      " Version ...................: 1.6.3\n",
      " inobs .....................: /Users/adam/Project/CTA/Phys/Outputs/KESACCO/Ana_EventsSelected.xml\n",
      " caldb .....................: prod3b-v2\n",
      " irf .......................: North_z20_S_5h\n",
      " inmap .....................: NONE\n",
      " outmap ....................: /Users/adam/Project/CTA/Phys/Outputs/KESACCO/Ana_SkymapTot.fits\n",
      " emin ......................: 0.05\n",
      " emax ......................: 100\n",
      " usepnt ....................: no\n",
      " nxpix .....................: 37\n",
      " nypix .....................: 37\n",
      " binsz .....................: 0.2\n",
      " coordsys ..................: CEL\n",
      " proj ......................: TAN\n",
      " xref ......................: 49.9420320110077\n",
      " yref ......................: 41.515220913547\n",
      " bkgsubtract ...............: IRF\n",
      " roiradius .................: 0.1\n",
      " inradius ..................: 1\n",
      " outradius .................: 2\n",
      " iterations ................: 3\n",
      " threshold .................: 3\n",
      " inexclusion ...............: NONE\n",
      " usefft ....................: yes\n",
      " publish ...................: no\n",
      " chatter ...................: 2\n",
      " clobber ...................: yes\n",
      " debug .....................: no\n",
      " mode ......................: ql\n",
      " logfile ...................: ctskymap.log\n",
      "=== GApplication ===\n",
      " Name ......................: csresmap\n",
      " Version ...................: 1.6.3\n",
      " inobs .....................: /Users/adam/Project/CTA/Phys/Outputs/KESACCO/Ana_EventsSelected.xml\n",
      " inmodel ...................: /Users/adam/Project/CTA/Phys/Outputs/KESACCO/Ana_Model_Output.xml\n",
      " modcube ...................: /Users/adam/Project/CTA/Phys/Outputs/KESACCO/Ana_Model_Cube.fits\n",
      " expcube ...................: /Users/adam/Project/CTA/Phys/Outputs/KESACCO/Ana_Expcube.fits\n",
      " psfcube ...................: /Users/adam/Project/CTA/Phys/Outputs/KESACCO/Ana_Psfcube.fits\n",
      " edispcube .................: NONE\n",
      " bkgcube ...................: /Users/adam/Project/CTA/Phys/Outputs/KESACCO/Ana_Bkgcube.fits\n",
      " caldb .....................: prod2\n",
      " irf .......................: South_0.5h\n",
      " edisp .....................: no\n",
      " outmap ....................: /Users/adam/Project/CTA/Phys/Outputs/KESACCO/Ana_ResmapTot_SIGNIFICANCE.fits\n",
      " ebinalg ...................: LOG\n",
      " emin ......................: 0.05\n",
      " emax ......................: 100\n",
      " enumbins ..................: 20\n",
      " ebinfile ..................: NONE\n",
      " coordsys ..................: CEL\n",
      " proj ......................: TAN\n",
      " xref ......................: 49.9420320110077\n",
      " yref ......................: 41.515220913547\n",
      " nxpix .....................: 37\n",
      " nypix .....................: 37\n",
      " binsz .....................: 0.2\n",
      " algorithm .................: SIGNIFICANCE\n",
      " publish ...................: no\n",
      " chatter ...................: 2\n",
      " clobber ...................: yes\n",
      " debug .....................: no\n",
      " mode ......................: ql\n",
      " logfile ...................: csresmap.log\n",
      "=== GApplication ===\n",
      " Name ......................: csresmap\n",
      " Version ...................: 1.6.3\n",
      " inobs .....................: /Users/adam/Project/CTA/Phys/Outputs/KESACCO/Ana_EventsSelected.xml\n",
      " inmodel ...................: /Users/adam/Project/CTA/Phys/Outputs/KESACCO/Ana_Model_Output_Cluster.xml\n",
      " modcube ...................: /Users/adam/Project/CTA/Phys/Outputs/KESACCO/Ana_Model_Cube_Cluster.fits\n",
      " expcube ...................: /Users/adam/Project/CTA/Phys/Outputs/KESACCO/Ana_Expcube.fits\n",
      " psfcube ...................: /Users/adam/Project/CTA/Phys/Outputs/KESACCO/Ana_Psfcube.fits\n",
      " edispcube .................: NONE\n",
      " bkgcube ...................: /Users/adam/Project/CTA/Phys/Outputs/KESACCO/Ana_Bkgcube.fits\n",
      " caldb .....................: prod2\n",
      " irf .......................: South_0.5h\n",
      " edisp .....................: no\n",
      " outmap ....................: /Users/adam/Project/CTA/Phys/Outputs/KESACCO/Ana_ResmapCluster_SIGNIFICANCE.fits\n",
      " ebinalg ...................: LOG\n",
      " emin ......................: 0.05\n",
      " emax ......................: 100\n",
      " enumbins ..................: 20\n",
      " ebinfile ..................: NONE\n",
      " coordsys ..................: CEL\n",
      " proj ......................: TAN\n",
      " xref ......................: 49.9420320110077\n",
      " yref ......................: 41.515220913547\n",
      " nxpix .....................: 37\n",
      " nypix .....................: 37\n",
      " binsz .....................: 0.2\n",
      " algorithm .................: SIGNIFICANCE\n",
      " publish ...................: no\n",
      " chatter ...................: 2\n",
      " clobber ...................: yes\n",
      " debug .....................: no\n",
      " mode ......................: ql\n",
      " logfile ...................: csresmap.log\n",
      "=== GApplication ===\n",
      " Name ......................: csresmap\n",
      " Version ...................: 1.6.3\n",
      " inobs .....................: /Users/adam/Project/CTA/Phys/Outputs/KESACCO/Ana_EventsSelected.xml\n",
      " inmodel ...................: /Users/adam/Project/CTA/Phys/Outputs/KESACCO/Ana_Model_Output.xml\n",
      " modcube ...................: /Users/adam/Project/CTA/Phys/Outputs/KESACCO/Ana_Model_Cube.fits\n",
      " expcube ...................: /Users/adam/Project/CTA/Phys/Outputs/KESACCO/Ana_Expcube.fits\n",
      " psfcube ...................: /Users/adam/Project/CTA/Phys/Outputs/KESACCO/Ana_Psfcube.fits\n",
      " edispcube .................: NONE\n",
      " bkgcube ...................: /Users/adam/Project/CTA/Phys/Outputs/KESACCO/Ana_Bkgcube.fits\n",
      " caldb .....................: prod2\n",
      " irf .......................: South_0.5h\n",
      " edisp .....................: no\n",
      " outmap ....................: /Users/adam/Project/CTA/Phys/Outputs/KESACCO/Ana_ResmapTot_SUB.fits\n",
      " ebinalg ...................: LOG\n",
      " emin ......................: 0.05\n",
      " emax ......................: 100\n",
      " enumbins ..................: 20\n",
      " ebinfile ..................: NONE\n",
      " coordsys ..................: CEL\n",
      " proj ......................: TAN\n",
      " xref ......................: 49.9420320110077\n",
      " yref ......................: 41.515220913547\n",
      " nxpix .....................: 37\n",
      " nypix .....................: 37\n",
      " binsz .....................: 0.2\n",
      " algorithm .................: SUB\n",
      " publish ...................: no\n",
      " chatter ...................: 2\n",
      " clobber ...................: yes\n",
      " debug .....................: no\n",
      " mode ......................: ql\n",
      " logfile ...................: csresmap.log\n",
      "=== GApplication ===\n",
      " Name ......................: csresmap\n",
      " Version ...................: 1.6.3\n",
      " inobs .....................: /Users/adam/Project/CTA/Phys/Outputs/KESACCO/Ana_EventsSelected.xml\n",
      " inmodel ...................: /Users/adam/Project/CTA/Phys/Outputs/KESACCO/Ana_Model_Output_Cluster.xml\n",
      " modcube ...................: /Users/adam/Project/CTA/Phys/Outputs/KESACCO/Ana_Model_Cube_Cluster.fits\n",
      " expcube ...................: /Users/adam/Project/CTA/Phys/Outputs/KESACCO/Ana_Expcube.fits\n",
      " psfcube ...................: /Users/adam/Project/CTA/Phys/Outputs/KESACCO/Ana_Psfcube.fits\n",
      " edispcube .................: NONE\n",
      " bkgcube ...................: /Users/adam/Project/CTA/Phys/Outputs/KESACCO/Ana_Bkgcube.fits\n",
      " caldb .....................: prod2\n",
      " irf .......................: South_0.5h\n",
      " edisp .....................: no\n",
      " outmap ....................: /Users/adam/Project/CTA/Phys/Outputs/KESACCO/Ana_ResmapCluster_SUB.fits\n",
      " ebinalg ...................: LOG\n",
      " emin ......................: 0.05\n",
      " emax ......................: 100\n",
      " enumbins ..................: 20\n",
      " ebinfile ..................: NONE\n",
      " coordsys ..................: CEL\n",
      " proj ......................: TAN\n",
      " xref ......................: 49.9420320110077\n",
      " yref ......................: 41.515220913547\n",
      " nxpix .....................: 37\n",
      " nypix .....................: 37\n",
      " binsz .....................: 0.2\n",
      " algorithm .................: SUB\n",
      " publish ...................: no\n",
      " chatter ...................: 2\n",
      " clobber ...................: yes\n",
      " debug .....................: no\n",
      " mode ......................: ql\n",
      " logfile ...................: csresmap.log\n",
      "=== GApplication ===\n",
      " Name ......................: csresmap\n",
      " Version ...................: 1.6.3\n",
      " inobs .....................: /Users/adam/Project/CTA/Phys/Outputs/KESACCO/Ana_EventsSelected.xml\n",
      " inmodel ...................: /Users/adam/Project/CTA/Phys/Outputs/KESACCO/Ana_Model_Output.xml\n",
      " modcube ...................: /Users/adam/Project/CTA/Phys/Outputs/KESACCO/Ana_Model_Cube.fits\n",
      " expcube ...................: /Users/adam/Project/CTA/Phys/Outputs/KESACCO/Ana_Expcube.fits\n",
      " psfcube ...................: /Users/adam/Project/CTA/Phys/Outputs/KESACCO/Ana_Psfcube.fits\n",
      " edispcube .................: NONE\n",
      " bkgcube ...................: /Users/adam/Project/CTA/Phys/Outputs/KESACCO/Ana_Bkgcube.fits\n",
      " caldb .....................: prod2\n",
      " irf .......................: South_0.5h\n",
      " edisp .....................: no\n",
      " outmap ....................: /Users/adam/Project/CTA/Phys/Outputs/KESACCO/Ana_ResmapTot_SUBDIV.fits\n",
      " ebinalg ...................: LOG\n",
      " emin ......................: 0.05\n",
      " emax ......................: 100\n",
      " enumbins ..................: 20\n",
      " ebinfile ..................: NONE\n",
      " coordsys ..................: CEL\n",
      " proj ......................: TAN\n",
      " xref ......................: 49.9420320110077\n",
      " yref ......................: 41.515220913547\n",
      " nxpix .....................: 37\n",
      " nypix .....................: 37\n",
      " binsz .....................: 0.2\n",
      " algorithm .................: SUBDIV\n",
      " publish ...................: no\n",
      " chatter ...................: 2\n",
      " clobber ...................: yes\n",
      " debug .....................: no\n",
      " mode ......................: ql\n",
      " logfile ...................: csresmap.log\n"
     ]
    },
    {
     "name": "stdout",
     "output_type": "stream",
     "text": [
      "=== GApplication ===\n",
      " Name ......................: csresmap\n",
      " Version ...................: 1.6.3\n",
      " inobs .....................: /Users/adam/Project/CTA/Phys/Outputs/KESACCO/Ana_EventsSelected.xml\n",
      " inmodel ...................: /Users/adam/Project/CTA/Phys/Outputs/KESACCO/Ana_Model_Output_Cluster.xml\n",
      " modcube ...................: /Users/adam/Project/CTA/Phys/Outputs/KESACCO/Ana_Model_Cube_Cluster.fits\n",
      " expcube ...................: /Users/adam/Project/CTA/Phys/Outputs/KESACCO/Ana_Expcube.fits\n",
      " psfcube ...................: /Users/adam/Project/CTA/Phys/Outputs/KESACCO/Ana_Psfcube.fits\n",
      " edispcube .................: NONE\n",
      " bkgcube ...................: /Users/adam/Project/CTA/Phys/Outputs/KESACCO/Ana_Bkgcube.fits\n",
      " caldb .....................: prod2\n",
      " irf .......................: South_0.5h\n",
      " edisp .....................: no\n",
      " outmap ....................: /Users/adam/Project/CTA/Phys/Outputs/KESACCO/Ana_ResmapCluster_SUBDIV.fits\n",
      " ebinalg ...................: LOG\n",
      " emin ......................: 0.05\n",
      " emax ......................: 100\n",
      " enumbins ..................: 20\n",
      " ebinfile ..................: NONE\n",
      " coordsys ..................: CEL\n",
      " proj ......................: TAN\n",
      " xref ......................: 49.9420320110077\n",
      " yref ......................: 41.515220913547\n",
      " nxpix .....................: 37\n",
      " nypix .....................: 37\n",
      " binsz .....................: 0.2\n",
      " algorithm .................: SUBDIV\n",
      " publish ...................: no\n",
      " chatter ...................: 2\n",
      " clobber ...................: yes\n",
      " debug .....................: no\n",
      " mode ......................: ql\n",
      " logfile ...................: csresmap.log\n"
     ]
    },
    {
     "name": "stderr",
     "output_type": "stream",
     "text": [
      "/Users/adam/Project/CTA/Phys/Software/ClusterPipe/clustpipe_ana.py:417: RuntimeWarning: invalid value encountered in divide\n",
      "  model = res_all/subdiv_all\n",
      "/Users/adam/Project/CTA/Phys/Software/ClusterModel/ClusterTools/map_tools.py:456: RuntimeWarning: invalid value encountered in greater\n",
      "  w_bin_val = (stddev > 0) * (np.isnan(stddev) == False) * (np.isnan(image) == False)\n",
      "/Users/adam/Project/CTA/Phys/Software/ClusterModel/ClusterTools/map_tools.py:470: RuntimeWarning: invalid value encountered in double_scalars\n",
      "  sig     = np.sign(cts_dat-cts_exp)*np.sqrt(2*(cts_dat*np.log(cts_dat/cts_exp) + cts_exp - cts_dat))\n",
      "/Users/adam/Project/CTA/Phys/Software/ClusterModel/ClusterTools/map_tools.py:476: RuntimeWarning: invalid value encountered in double_scalars\n",
      "  val     /= (Npix_bin*reso_x*reso_y)\n",
      "WARNING: UnitsWarning: 'deg$^{-2}$' did not parse as fits unit: Invalid character at col 3 [astropy.units.core]\n"
     ]
    }
   ],
   "source": [
    "cpipe.run_ana_imaging(bkgsubtract='IRF', do_TS=False, do_Res=True, do_Skymap=True, do_SourceDet=False)\n",
    "#cpipe.run_ana_spectral()"
   ]
  },
  {
   "cell_type": "code",
   "execution_count": 11,
   "metadata": {},
   "outputs": [
    {
     "name": "stdout",
     "output_type": "stream",
     "text": [
      "----- ObsID to be looked at: ['011', '012']\n"
     ]
    },
    {
     "name": "stderr",
     "output_type": "stream",
     "text": [
      "/Users/adam/Project/anaconda3/envs/cta/lib/python2.7/site-packages/matplotlib/patches.py:83: UserWarning: Setting the 'color' property will overridethe edgecolor or facecolor properties. \n",
      "  warnings.warn(\"Setting the 'color' property will override\"\n",
      "/Users/adam/Project/anaconda3/envs/cta/lib/python2.7/site-packages/matplotlib/contour.py:1230: UserWarning: No contour levels were found within the data range.\n",
      "  warnings.warn(\"No contour levels were found\"\n"
     ]
    },
    {
     "name": "stdout",
     "output_type": "stream",
     "text": [
      "=== GApplication ===\n",
      " Name ......................: ctskymap\n",
      " Version ...................: 1.6.3\n",
      " inobs .....................: /Users/adam/Project/CTA/Phys/Outputs/KESACCO/Ana_SelectedEvents011.fits\n",
      " caldb .....................: prod3b-v2\n",
      " irf .......................: North_z20_S_5h\n",
      " inmap .....................: NONE\n",
      " outmap ....................: /Users/adam/Project/CTA/Phys/Outputs/KESACCO/Ana_Skymap011.fits\n",
      " emin ......................: 0.05\n",
      " emax ......................: 100\n",
      " usepnt ....................: no\n",
      " nxpix .....................: 21\n",
      " nypix .....................: 21\n",
      " binsz .....................: 0.2\n",
      " coordsys ..................: CEL\n",
      " proj ......................: TAN\n",
      " xref ......................: 49.9466666666667\n",
      " yref ......................: 41.5130555555556\n",
      " bkgsubtract ...............: NONE\n",
      " roiradius .................: 0.1\n",
      " inradius ..................: 1\n",
      " outradius .................: 2\n",
      " iterations ................: 3\n",
      " threshold .................: 3\n",
      " inexclusion ...............: NONE\n",
      " usefft ....................: yes\n",
      " publish ...................: no\n",
      " chatter ...................: 2\n",
      " clobber ...................: yes\n",
      " debug .....................: no\n",
      " mode ......................: ql\n",
      " logfile ...................: ctskymap.log\n",
      "=== GApplication ===\n",
      " Name ......................: ctskymap\n",
      " Version ...................: 1.6.3\n",
      " inobs .....................: /Users/adam/Project/CTA/Phys/Outputs/KESACCO/Ana_SelectedEvents012.fits\n",
      " caldb .....................: prod3b-v2\n",
      " irf .......................: North_z20_S_5h\n",
      " inmap .....................: NONE\n",
      " outmap ....................: /Users/adam/Project/CTA/Phys/Outputs/KESACCO/Ana_Skymap012.fits\n",
      " emin ......................: 0.06\n",
      " emax ......................: 90\n",
      " usepnt ....................: no\n",
      " nxpix .....................: 31\n",
      " nypix .....................: 31\n",
      " binsz .....................: 0.2\n",
      " coordsys ..................: CEL\n",
      " proj ......................: TAN\n",
      " xref ......................: 49.9466666666667\n",
      " yref ......................: 41.5130555555556\n",
      " bkgsubtract ...............: NONE\n",
      " roiradius .................: 0.1\n",
      " inradius ..................: 1\n",
      " outradius .................: 2\n",
      " iterations ................: 3\n",
      " threshold .................: 3\n",
      " inexclusion ...............: NONE\n",
      " usefft ....................: yes\n",
      " publish ...................: no\n",
      " chatter ...................: 2\n",
      " clobber ...................: yes\n",
      " debug .....................: no\n",
      " mode ......................: ql\n",
      " logfile ...................: ctskymap.log\n",
      "WARNING: The significance is boosted accounting for smoothing.\n",
      "         This assumes weak noise spatial variarion (w.r.t. smoothing), gaussian regime, and uncorrelated pixels.\n",
      "WARNING: The significance is boosted accounting for smoothing.\n",
      "         This assumes weak noise spatial variarion (w.r.t. smoothing), gaussian regime, and uncorrelated pixels.\n",
      "deg$^{-2}$\n"
     ]
    },
    {
     "name": "stderr",
     "output_type": "stream",
     "text": [
      "/Users/adam/Project/CTA/Phys/Software/ClusterPipe/Tools/plotting.py:417: RuntimeWarning: invalid value encountered in greater\n",
      "  w_pos = prof['profile'] > 0\n",
      "/Users/adam/Project/CTA/Phys/Software/ClusterPipe/Tools/plotting.py:418: RuntimeWarning: invalid value encountered in less\n",
      "  w_neg = prof['profile'] < 0\n",
      "/Users/adam/Project/anaconda3/envs/cta/lib/python2.7/site-packages/numpy/ma/core.py:6666: RuntimeWarning: overflow encountered in power\n",
      "  result = np.where(m, fa, umath.power(fa, fb)).view(basetype)\n"
     ]
    }
   ],
   "source": [
    "cpipe.run_ana_plot(obsID=obsID)"
   ]
  },
  {
   "cell_type": "markdown",
   "metadata": {},
   "source": [
    "# Compare profile to input"
   ]
  },
  {
   "cell_type": "code",
   "execution_count": 12,
   "metadata": {},
   "outputs": [],
   "source": [
    "#----- Get the data\n",
    "pdata = fits.open(cpipe.output_dir+'/Ana_ResmapCluster_profile.fits')[1]\n",
    "prof = pdata.data"
   ]
  },
  {
   "cell_type": "code",
   "execution_count": 13,
   "metadata": {},
   "outputs": [
    {
     "name": "stdout",
     "output_type": "stream",
     "text": [
      "=== GApplication ===\n",
      " Name ......................: ctmodel\n",
      " Version ...................: 1.6.3\n",
      " inobs .....................: /Users/adam/Project/CTA/Phys/Outputs/KESACCO/Ana_Countscube.fits\n",
      " incube ....................: /Users/adam/Project/CTA/Phys/Outputs/KESACCO/Ana_Countscube.fits\n",
      " inmodel ...................: /Users/adam/Project/CTA/Phys/Outputs/KESACCO/Postana_Cluster_model.xml\n",
      " expcube ...................: /Users/adam/Project/CTA/Phys/Outputs/KESACCO/Ana_Expcube.fits\n",
      " psfcube ...................: /Users/adam/Project/CTA/Phys/Outputs/KESACCO/Ana_Psfcube.fits\n",
      " edispcube .................: NONE\n",
      " bkgcube ...................: /Users/adam/Project/CTA/Phys/Outputs/KESACCO/Ana_Bkgcube.fits\n",
      " caldb .....................: NONE\n",
      " irf .......................: NONE\n",
      " edisp .....................: no\n",
      " outcube ...................: /Users/adam/Project/CTA/Phys/Outputs/KESACCO/Postana_Cluster_model.fits\n",
      " ra ........................: NONE\n",
      " dec .......................: NONE\n",
      " rad .......................: NONE\n",
      " tmin ......................: NONE\n",
      " tmax ......................: NONE\n",
      " deadc .....................: NONE\n",
      " ebinalg ...................: LOG\n",
      " emin ......................: 0.05\n",
      " emax ......................: 100\n",
      " enumbins ..................: 20\n",
      " ebinfile ..................: NONE\n",
      " usepnt ....................: no\n",
      " nxpix .....................: 37\n",
      " nypix .....................: 37\n",
      " binsz .....................: 0.2\n",
      " coordsys ..................: CEL\n",
      " proj ......................: TAN\n",
      " xref ......................: 49.9420320110077\n",
      " yref ......................: 41.515220913547\n",
      " nthreads ..................: 0\n",
      " publish ...................: no\n",
      " chatter ...................: 2\n",
      " clobber ...................: yes\n",
      " debug .....................: no\n",
      " mode ......................: ql\n",
      " logfile ...................: ctmodel.log\n"
     ]
    }
   ],
   "source": [
    "#----- Get the expectation for input model\n",
    "import gammalib\n",
    "from ClusterPipe.Tools import build_ctools_model\n",
    "from ClusterPipe.Tools import cubemaking\n",
    "\n",
    "model_in = gammalib.GModels()\n",
    "build_ctools_model.cluster(model_in,\n",
    "                           cpipe.output_dir+'/Ana_Model_Input_Map.fits',\n",
    "                           cpipe.output_dir+'/Ana_Model_Input_Spectrum.txt',\n",
    "                           ClusterName=cpipe.cluster.name)\n",
    "model_in.save(cpipe.output_dir+'/Postana_Cluster_model.xml')\n",
    "\n",
    "cpipe._match_cluster_to_pointing()\n",
    "cpipe._match_anamap_to_pointing()\n",
    "modcube_Cl = cubemaking.model_cube(cpipe.output_dir,\n",
    "                                   cpipe.map_reso, cpipe.map_coord, cpipe.map_fov,\n",
    "                                   cpipe.spec_emin, cpipe.spec_emax, cpipe.spec_enumbins, cpipe.spec_ebinalg,\n",
    "                                   edisp=cpipe.spec_edisp,\n",
    "                                   stack=True, silent=cpipe.silent,\n",
    "                                   inmodel_usr=cpipe.output_dir+'/Postana_Cluster_model.xml',\n",
    "                                   outmap_usr=cpipe.output_dir+'/Postana_Cluster_model.fits')"
   ]
  },
  {
   "cell_type": "code",
   "execution_count": 14,
   "metadata": {},
   "outputs": [],
   "source": [
    "mcube = fits.open(cpipe.output_dir+'/Postana_Cluster_model.fits')\n",
    "header = mcube[0].header\n",
    "model_cnt_map = np.sum(mcube[0].data,axis=0)\n",
    "header.remove('NAXIS3')\n",
    "header['NAXIS'] = 2"
   ]
  },
  {
   "cell_type": "code",
   "execution_count": 15,
   "metadata": {},
   "outputs": [],
   "source": [
    "from ClusterModel.ClusterTools.map_tools import radial_profile\n",
    "r_mod, p_mod, err_mod = radial_profile(model_cnt_map,\n",
    "                                   [cpipe.cluster.coord.icrs.ra.to_value('deg'),\n",
    "                                    cpipe.cluster.coord.icrs.dec.to_value('deg')],\n",
    "                                   stddev=np.sqrt(model_cnt_map), header=header,\n",
    "                                   binsize=0.05, stat='POISSON',\n",
    "                                   counts2brightness=True)"
   ]
  },
  {
   "cell_type": "code",
   "execution_count": 16,
   "metadata": {},
   "outputs": [
    {
     "data": {
      "text/plain": [
       "Text(0,0.5,'$\\\\chi$')"
      ]
     },
     "execution_count": 16,
     "metadata": {},
     "output_type": "execute_result"
    },
    {
     "data": {
      "image/png": "[encoded data removed]",
      "text/plain": [
       "<Figure size 1080x720 with 2 Axes>"
      ]
     },
     "metadata": {},
     "output_type": "display_data"
    }
   ],
   "source": [
    "fig = plt.figure(0, figsize=(15,10))\n",
    "\n",
    "# Frame 1\n",
    "frame1 = fig.add_axes((.1,.3,.8,.6))\n",
    "\n",
    "plt.errorbar(prof['radius'], prof['profile'], prof['error'], color='k', marker='.', linestyle='', label='Data')\n",
    "plt.fill_between(r_mod, p_mod+err_mod, p_mod-err_mod, color='red', alpha=0.2)\n",
    "plt.plot(r_mod, p_mod, color='red', label='Input model (IRF convolved)')\n",
    "plt.plot(r_mod, p_mod+err_mod, color='red', linestyle='--')\n",
    "plt.plot(r_mod, p_mod-err_mod, color='red', linestyle='--')\n",
    "\n",
    "plt.ylabel('Number counts (deg$^{-2}$)')\n",
    "plt.xlim(2e-2, 5)\n",
    "plt.ylim(1.1, 5e4)\n",
    "plt.xticks([])\n",
    "plt.xscale('log')\n",
    "plt.yscale('log')\n",
    "plt.legend()\n",
    "\n",
    "# Frame2\n",
    "frame2 = fig.add_axes((.1,.1,.8,.2))\n",
    "plt.plot(prof['radius'], (prof['profile']-p_mod)/prof['error'], color='k', marker='.', linestyle='')\n",
    "plt.hlines(0,  2e-2, 5, linestyle='-')\n",
    "plt.hlines(-3, 2e-2, 5, linestyle='--')\n",
    "plt.hlines(+3, 2e-2, 5, linestyle='--')\n",
    "plt.xscale('log')\n",
    "plt.xlim(2e-2, 5)\n",
    "plt.ylim(-5, 5)\n",
    "plt.xscale('log')\n",
    "plt.xlabel('Radius (deg)')\n",
    "plt.ylabel('$\\\\chi$')"
   ]
  },
  {
   "cell_type": "code",
   "execution_count": 17,
   "metadata": {},
   "outputs": [
    {
     "data": {
      "text/plain": [
       "False"
      ]
     },
     "execution_count": 17,
     "metadata": {},
     "output_type": "execute_result"
    }
   ],
   "source": [
    "cpipe.spec_edisp"
   ]
  },
  {
   "cell_type": "code",
   "execution_count": 18,
   "metadata": {},
   "outputs": [
    {
     "ename": "IOError",
     "evalue": "[Errno 2] No such file or directory: '/Users/adam/Project/CTA/Phys/Outputs/KESACCO/Ana_Spectrum_Perseus.fits'",
     "output_type": "error",
     "traceback": [
      "\u001b[0;31m---------------------------------------------------------------------------\u001b[0m",
      "\u001b[0;31mIOError\u001b[0m                                   Traceback (most recent call last)",
      "\u001b[0;32m<ipython-input-18-340ea8a13501>\u001b[0m in \u001b[0;36m<module>\u001b[0;34m()\u001b[0m\n\u001b[0;32m----> 1\u001b[0;31m \u001b[0md\u001b[0m \u001b[0;34m=\u001b[0m \u001b[0mfits\u001b[0m\u001b[0;34m.\u001b[0m\u001b[0mopen\u001b[0m\u001b[0;34m(\u001b[0m\u001b[0mcpipe\u001b[0m\u001b[0;34m.\u001b[0m\u001b[0moutput_dir\u001b[0m\u001b[0;34m+\u001b[0m\u001b[0;34m'/Ana_Spectrum_Perseus.fits'\u001b[0m\u001b[0;34m)\u001b[0m\u001b[0;34m\u001b[0m\u001b[0m\n\u001b[0m",
      "\u001b[0;32m/Users/adam/Project/anaconda3/envs/cta/lib/python2.7/site-packages/astropy/io/fits/hdu/hdulist.pyc\u001b[0m in \u001b[0;36mfitsopen\u001b[0;34m(name, mode, memmap, save_backup, cache, lazy_load_hdus, **kwargs)\u001b[0m\n\u001b[1;32m    146\u001b[0m \u001b[0;34m\u001b[0m\u001b[0m\n\u001b[1;32m    147\u001b[0m     return HDUList.fromfile(name, mode, memmap, save_backup, cache,\n\u001b[0;32m--> 148\u001b[0;31m                             lazy_load_hdus, **kwargs)\n\u001b[0m\u001b[1;32m    149\u001b[0m \u001b[0;34m\u001b[0m\u001b[0m\n\u001b[1;32m    150\u001b[0m \u001b[0;34m\u001b[0m\u001b[0m\n",
      "\u001b[0;32m/Users/adam/Project/anaconda3/envs/cta/lib/python2.7/site-packages/astropy/io/fits/hdu/hdulist.pyc\u001b[0m in \u001b[0;36mfromfile\u001b[0;34m(cls, fileobj, mode, memmap, save_backup, cache, lazy_load_hdus, **kwargs)\u001b[0m\n\u001b[1;32m    397\u001b[0m         return cls._readfrom(fileobj=fileobj, mode=mode, memmap=memmap,\n\u001b[1;32m    398\u001b[0m                              \u001b[0msave_backup\u001b[0m\u001b[0;34m=\u001b[0m\u001b[0msave_backup\u001b[0m\u001b[0;34m,\u001b[0m \u001b[0mcache\u001b[0m\u001b[0;34m=\u001b[0m\u001b[0mcache\u001b[0m\u001b[0;34m,\u001b[0m\u001b[0;34m\u001b[0m\u001b[0m\n\u001b[0;32m--> 399\u001b[0;31m                              lazy_load_hdus=lazy_load_hdus, **kwargs)\n\u001b[0m\u001b[1;32m    400\u001b[0m \u001b[0;34m\u001b[0m\u001b[0m\n\u001b[1;32m    401\u001b[0m     \u001b[0;34m@\u001b[0m\u001b[0mclassmethod\u001b[0m\u001b[0;34m\u001b[0m\u001b[0m\n",
      "\u001b[0;32m/Users/adam/Project/anaconda3/envs/cta/lib/python2.7/site-packages/astropy/io/fits/hdu/hdulist.pyc\u001b[0m in \u001b[0;36m_readfrom\u001b[0;34m(cls, fileobj, data, mode, memmap, save_backup, cache, lazy_load_hdus, **kwargs)\u001b[0m\n\u001b[1;32m    985\u001b[0m             \u001b[0;32mif\u001b[0m \u001b[0;32mnot\u001b[0m \u001b[0misinstance\u001b[0m\u001b[0;34m(\u001b[0m\u001b[0mfileobj\u001b[0m\u001b[0;34m,\u001b[0m \u001b[0m_File\u001b[0m\u001b[0;34m)\u001b[0m\u001b[0;34m:\u001b[0m\u001b[0;34m\u001b[0m\u001b[0m\n\u001b[1;32m    986\u001b[0m                 \u001b[0;31m# instantiate a FITS file object (ffo)\u001b[0m\u001b[0;34m\u001b[0m\u001b[0;34m\u001b[0m\u001b[0m\n\u001b[0;32m--> 987\u001b[0;31m                 \u001b[0mfileobj\u001b[0m \u001b[0;34m=\u001b[0m \u001b[0m_File\u001b[0m\u001b[0;34m(\u001b[0m\u001b[0mfileobj\u001b[0m\u001b[0;34m,\u001b[0m \u001b[0mmode\u001b[0m\u001b[0;34m=\u001b[0m\u001b[0mmode\u001b[0m\u001b[0;34m,\u001b[0m \u001b[0mmemmap\u001b[0m\u001b[0;34m=\u001b[0m\u001b[0mmemmap\u001b[0m\u001b[0;34m,\u001b[0m \u001b[0mcache\u001b[0m\u001b[0;34m=\u001b[0m\u001b[0mcache\u001b[0m\u001b[0;34m)\u001b[0m\u001b[0;34m\u001b[0m\u001b[0m\n\u001b[0m\u001b[1;32m    988\u001b[0m             \u001b[0;31m# The Astropy mode is determined by the _File initializer if the\u001b[0m\u001b[0;34m\u001b[0m\u001b[0;34m\u001b[0m\u001b[0m\n\u001b[1;32m    989\u001b[0m             \u001b[0;31m# supplied mode was None\u001b[0m\u001b[0;34m\u001b[0m\u001b[0;34m\u001b[0m\u001b[0m\n",
      "\u001b[0;32m/Users/adam/Project/anaconda3/envs/cta/lib/python2.7/site-packages/astropy/utils/decorators.pyc\u001b[0m in \u001b[0;36mwrapper\u001b[0;34m(*args, **kwargs)\u001b[0m\n\u001b[1;32m    506\u001b[0m                         \u001b[0;31m# one with the name of the new argument to the function\u001b[0m\u001b[0;34m\u001b[0m\u001b[0;34m\u001b[0m\u001b[0m\n\u001b[1;32m    507\u001b[0m                         \u001b[0mkwargs\u001b[0m\u001b[0;34m[\u001b[0m\u001b[0mnew_name\u001b[0m\u001b[0;34m[\u001b[0m\u001b[0mi\u001b[0m\u001b[0;34m]\u001b[0m\u001b[0;34m]\u001b[0m \u001b[0;34m=\u001b[0m \u001b[0mvalue\u001b[0m\u001b[0;34m\u001b[0m\u001b[0m\n\u001b[0;32m--> 508\u001b[0;31m             \u001b[0;32mreturn\u001b[0m \u001b[0mfunction\u001b[0m\u001b[0;34m(\u001b[0m\u001b[0;34m*\u001b[0m\u001b[0margs\u001b[0m\u001b[0;34m,\u001b[0m \u001b[0;34m**\u001b[0m\u001b[0mkwargs\u001b[0m\u001b[0;34m)\u001b[0m\u001b[0;34m\u001b[0m\u001b[0m\n\u001b[0m\u001b[1;32m    509\u001b[0m \u001b[0;34m\u001b[0m\u001b[0m\n\u001b[1;32m    510\u001b[0m         \u001b[0;32mreturn\u001b[0m \u001b[0mwrapper\u001b[0m\u001b[0;34m\u001b[0m\u001b[0m\n",
      "\u001b[0;32m/Users/adam/Project/anaconda3/envs/cta/lib/python2.7/site-packages/astropy/io/fits/file.pyc\u001b[0m in \u001b[0;36m__init__\u001b[0;34m(self, fileobj, mode, memmap, overwrite, cache)\u001b[0m\n\u001b[1;32m    148\u001b[0m             \u001b[0mself\u001b[0m\u001b[0;34m.\u001b[0m\u001b[0m_open_fileobj\u001b[0m\u001b[0;34m(\u001b[0m\u001b[0mfileobj\u001b[0m\u001b[0;34m,\u001b[0m \u001b[0mmode\u001b[0m\u001b[0;34m,\u001b[0m \u001b[0moverwrite\u001b[0m\u001b[0;34m)\u001b[0m\u001b[0;34m\u001b[0m\u001b[0m\n\u001b[1;32m    149\u001b[0m         \u001b[0;32melif\u001b[0m \u001b[0misinstance\u001b[0m\u001b[0;34m(\u001b[0m\u001b[0mfileobj\u001b[0m\u001b[0;34m,\u001b[0m \u001b[0mstring_types\u001b[0m\u001b[0;34m)\u001b[0m\u001b[0;34m:\u001b[0m\u001b[0;34m\u001b[0m\u001b[0m\n\u001b[0;32m--> 150\u001b[0;31m             \u001b[0mself\u001b[0m\u001b[0;34m.\u001b[0m\u001b[0m_open_filename\u001b[0m\u001b[0;34m(\u001b[0m\u001b[0mfileobj\u001b[0m\u001b[0;34m,\u001b[0m \u001b[0mmode\u001b[0m\u001b[0;34m,\u001b[0m \u001b[0moverwrite\u001b[0m\u001b[0;34m)\u001b[0m\u001b[0;34m\u001b[0m\u001b[0m\n\u001b[0m\u001b[1;32m    151\u001b[0m         \u001b[0;32melse\u001b[0m\u001b[0;34m:\u001b[0m\u001b[0;34m\u001b[0m\u001b[0m\n\u001b[1;32m    152\u001b[0m             \u001b[0mself\u001b[0m\u001b[0;34m.\u001b[0m\u001b[0m_open_filelike\u001b[0m\u001b[0;34m(\u001b[0m\u001b[0mfileobj\u001b[0m\u001b[0;34m,\u001b[0m \u001b[0mmode\u001b[0m\u001b[0;34m,\u001b[0m \u001b[0moverwrite\u001b[0m\u001b[0;34m)\u001b[0m\u001b[0;34m\u001b[0m\u001b[0m\n",
      "\u001b[0;32m/Users/adam/Project/anaconda3/envs/cta/lib/python2.7/site-packages/astropy/io/fits/file.pyc\u001b[0m in \u001b[0;36m_open_filename\u001b[0;34m(self, filename, mode, overwrite)\u001b[0m\n\u001b[1;32m    504\u001b[0m             \u001b[0mself\u001b[0m\u001b[0;34m.\u001b[0m\u001b[0m_file\u001b[0m \u001b[0;34m=\u001b[0m \u001b[0mbz2\u001b[0m\u001b[0;34m.\u001b[0m\u001b[0mBZ2File\u001b[0m\u001b[0;34m(\u001b[0m\u001b[0mself\u001b[0m\u001b[0;34m.\u001b[0m\u001b[0mname\u001b[0m\u001b[0;34m,\u001b[0m \u001b[0mbzip2_mode\u001b[0m\u001b[0;34m)\u001b[0m\u001b[0;34m\u001b[0m\u001b[0m\n\u001b[1;32m    505\u001b[0m         \u001b[0;32melse\u001b[0m\u001b[0;34m:\u001b[0m\u001b[0;34m\u001b[0m\u001b[0m\n\u001b[0;32m--> 506\u001b[0;31m             \u001b[0mself\u001b[0m\u001b[0;34m.\u001b[0m\u001b[0m_file\u001b[0m \u001b[0;34m=\u001b[0m \u001b[0mfileobj_open\u001b[0m\u001b[0;34m(\u001b[0m\u001b[0mself\u001b[0m\u001b[0;34m.\u001b[0m\u001b[0mname\u001b[0m\u001b[0;34m,\u001b[0m \u001b[0mIO_FITS_MODES\u001b[0m\u001b[0;34m[\u001b[0m\u001b[0mmode\u001b[0m\u001b[0;34m]\u001b[0m\u001b[0;34m)\u001b[0m\u001b[0;34m\u001b[0m\u001b[0m\n\u001b[0m\u001b[1;32m    507\u001b[0m             \u001b[0mself\u001b[0m\u001b[0;34m.\u001b[0m\u001b[0mclose_on_error\u001b[0m \u001b[0;34m=\u001b[0m \u001b[0mTrue\u001b[0m\u001b[0;34m\u001b[0m\u001b[0m\n\u001b[1;32m    508\u001b[0m \u001b[0;34m\u001b[0m\u001b[0m\n",
      "\u001b[0;32m/Users/adam/Project/anaconda3/envs/cta/lib/python2.7/site-packages/astropy/io/fits/util.pyc\u001b[0m in \u001b[0;36mfileobj_open\u001b[0;34m(filename, mode)\u001b[0m\n\u001b[1;32m    393\u001b[0m         \"\"\"\n\u001b[1;32m    394\u001b[0m \u001b[0;34m\u001b[0m\u001b[0m\n\u001b[0;32m--> 395\u001b[0;31m         \u001b[0;32mreturn\u001b[0m \u001b[0mopen\u001b[0m\u001b[0;34m(\u001b[0m\u001b[0mfilename\u001b[0m\u001b[0;34m,\u001b[0m \u001b[0mmode\u001b[0m\u001b[0;34m)\u001b[0m\u001b[0;34m\u001b[0m\u001b[0m\n\u001b[0m\u001b[1;32m    396\u001b[0m \u001b[0;32melse\u001b[0m\u001b[0;34m:\u001b[0m\u001b[0;34m\u001b[0m\u001b[0m\n\u001b[1;32m    397\u001b[0m     \u001b[0;32mdef\u001b[0m \u001b[0mfileobj_open\u001b[0m\u001b[0;34m(\u001b[0m\u001b[0mfilename\u001b[0m\u001b[0;34m,\u001b[0m \u001b[0mmode\u001b[0m\u001b[0;34m)\u001b[0m\u001b[0;34m:\u001b[0m\u001b[0;34m\u001b[0m\u001b[0m\n",
      "\u001b[0;31mIOError\u001b[0m: [Errno 2] No such file or directory: '/Users/adam/Project/CTA/Phys/Outputs/KESACCO/Ana_Spectrum_Perseus.fits'"
     ]
    }
   ],
   "source": [
    "d = fits.open(cpipe.output_dir+'/Ana_Spectrum_Perseus.fits')"
   ]
  },
  {
   "cell_type": "code",
   "execution_count": null,
   "metadata": {},
   "outputs": [],
   "source": [
    "d.info()"
   ]
  },
  {
   "cell_type": "code",
   "execution_count": null,
   "metadata": {},
   "outputs": [],
   "source": []
  },
  {
   "cell_type": "code",
   "execution_count": null,
   "metadata": {},
   "outputs": [],
   "source": []
  }
 ],
 "metadata": {
  "kernelspec": {
   "display_name": "Python 2",
   "language": "python",
   "name": "python2"
  },
  "language_info": {
   "codemirror_mode": {
    "name": "ipython",
    "version": 2
   },
   "file_extension": ".py",
   "mimetype": "text/x-python",
   "name": "python",
   "nbconvert_exporter": "python",
   "pygments_lexer": "ipython2",
   "version": "2.7.16"
  }
 },
 "nbformat": 4,
 "nbformat_minor": 2
}
